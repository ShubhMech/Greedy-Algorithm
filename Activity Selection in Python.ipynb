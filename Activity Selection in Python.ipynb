{
 "cells": [
  {
   "cell_type": "code",
   "execution_count": 14,
   "id": "1bf8ce64-4106-4d0a-b6da-3bd9a4c463e7",
   "metadata": {},
   "outputs": [],
   "source": [
    "def activity_Selection(Activities):\n",
    "    Activities.sort(key= lambda x: x[2])\n",
    "    print(Activities)\n",
    "    \n",
    "    i= 0\n",
    "    first_act = Activities[0]\n",
    "    \n",
    "    for j in range(len(Activities)):\n",
    "        if Activities[i][2]< Activities[j][1]:\n",
    "            print(Activities[j][0])\n",
    "            i= j"
   ]
  },
  {
   "cell_type": "code",
   "execution_count": 17,
   "id": "dd0505c5-1a58-476d-88d8-36544ac51425",
   "metadata": {},
   "outputs": [],
   "source": [
    "Activities= [[\"A\", 0,6],[\"B\", 3,4],[\"C\", 1,2],[\"D\", 5,8],[\"E\", 5,7],[\"F\", 8,9]]"
   ]
  },
  {
   "cell_type": "code",
   "execution_count": 18,
   "id": "fb838901-814e-42a2-9ce0-c0e561dba68e",
   "metadata": {},
   "outputs": [
    {
     "name": "stdout",
     "output_type": "stream",
     "text": [
      "[['C', 1, 2], ['B', 3, 4], ['A', 0, 6], ['E', 5, 7], ['D', 5, 8], ['F', 8, 9]]\n",
      "B\n",
      "E\n",
      "F\n"
     ]
    }
   ],
   "source": [
    "activity_Selection(Activities)"
   ]
  },
  {
   "cell_type": "code",
   "execution_count": null,
   "id": "17d188b3-fecd-4248-8593-e3ef7f6531c0",
   "metadata": {},
   "outputs": [],
   "source": []
  }
 ],
 "metadata": {
  "kernelspec": {
   "display_name": "Python 3",
   "language": "python",
   "name": "python3"
  },
  "language_info": {
   "codemirror_mode": {
    "name": "ipython",
    "version": 3
   },
   "file_extension": ".py",
   "mimetype": "text/x-python",
   "name": "python",
   "nbconvert_exporter": "python",
   "pygments_lexer": "ipython3",
   "version": "3.8.5"
  }
 },
 "nbformat": 4,
 "nbformat_minor": 5
}
